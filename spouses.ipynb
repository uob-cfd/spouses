{
 "cells": [
  {
   "cell_type": "markdown",
   "id": "c78833b6",
   "metadata": {},
   "source": [
    "# Spouses, baggage"
   ]
  },
  {
   "cell_type": "markdown",
   "id": "1cd43ea4",
   "metadata": {},
   "source": [
    "We found, in the Titanic dataset, that Third Class passengers were less likely to survive the disaster.\n",
    "\n",
    "Why?\n",
    "\n",
    "Was it because they were locked behind gates while the higher-class passengers were being boarded onto lifeboats?  Or some other reason?"
   ]
  },
  {
   "cell_type": "code",
   "execution_count": null,
   "id": "f5aa4cb8",
   "metadata": {},
   "outputs": [],
   "source": [
    "# Run this cell to start.\n",
    "import numpy as np\n",
    "import pandas as pd\n",
    "# Safe settings for Pandas.\n",
    "pd.set_option('mode.chained_assignment', 'raise')\n",
    "\n",
    "%matplotlib inline\n",
    "import matplotlib.pyplot as plt\n",
    "plt.style.use('fivethirtyeight')"
   ]
  },
  {
   "cell_type": "markdown",
   "id": "74f5491b",
   "metadata": {},
   "source": [
    "The official report into the disaster was the [British Wreck Commissioner's\n",
    "Inquiry report](https://www.titanicinquiry.org/BOTInq/BOTReport/botRep01.php)\n",
    "by [Lord\n",
    "Mersey](https://en.wikipedia.org/wiki/John_Bigham,_1st_Viscount_Mersey).\n",
    "\n",
    "There is a short section of the report entitled [Third Class\n",
    "Passengers](https://www.titanicinquiry.org/BOTInq/BOTReport/botRep3rdClass.php).\n",
    "It includes:\n",
    "\n",
    "> It had been suggested before the Enquiry that the third class passengers had\n",
    "> been unfairly treated; that their access to the Boat deck had been impeded,\n",
    "> and that when at last they reached that deck the first and second class\n",
    "> passengers were given precedence in getting places in the boats. There\n",
    "> appears to have been no truth in these suggestions. It is no doubt true that\n",
    "> the proportion of third class passengers saved falls far short of the\n",
    "> proportion of the first and second class, but this is accounted for by the\n",
    "> greater reluctance of the third class passengers to leave the ship, by their\n",
    "> unwillingness to part with their baggage, by the difficulty in getting them\n",
    "> up from their quarters, which were at the extreme ends of the ship, and by\n",
    "> other similar causes."
   ]
  },
  {
   "cell_type": "markdown",
   "id": "89956388",
   "metadata": {},
   "source": [
    "Your job in this notebook it is to explore the evidence in the data for the\n",
    "\"greater reluctance of the third class passengers to leave the ship\".\n",
    "\n",
    "For example, we see [figures in Lord Mersey's\n",
    "report](https://www.titanicinquiry.org/BOTInq/BOTReport/botRepSaved.php), using\n",
    "slightly different data from the data you have here, that show:\n",
    "\n",
    "* 16% of adult male Third Class passengers survived, compared to 8% of Second\n",
    "  Class males, and 33% of First Class males;\n",
    "* The corresponding figures for women are 46% (Third) 86% (Second) 97% (First).\n",
    "\n",
    "Why were Third Class women about half as likely to be saved as Second Class\n",
    "women, when Third Class men were, if anything, more likely to be saved than\n",
    "Second Class men?"
   ]
  },
  {
   "cell_type": "markdown",
   "id": "0bf50559",
   "metadata": {},
   "source": [
    "One possible explanation is that Third Class passengers were more likely to be\n",
    "young couples, maybe with children.   It may well have been true the young\n",
    "wives, maybe with children, would be more reluctant to leave their husbands\n",
    "behind on the ship.  See [Rhoda Abbott's\n",
    "story](https://en.wikipedia.org/wiki/Rhoda_Abbott) for an example."
   ]
  },
  {
   "cell_type": "markdown",
   "id": "c8a38c60",
   "metadata": {},
   "source": [
    "One way of getting at this effect could be to use the `sibsp` and `parch`\n",
    "columns of the dataset:"
   ]
  },
  {
   "cell_type": "code",
   "execution_count": null,
   "id": "dd4dbfae",
   "metadata": {},
   "outputs": [],
   "source": [
    "# Read the dataset as a data frame.\n",
    "titanic = pd.read_csv(\"titanic_stlearn.csv\")\n",
    "# Boolean with True for passengers with not-NA sibsp values, False otherwise.\n",
    "have_sibsp = titanic['sibsp'].notna()\n",
    "# Select rows with value (not-NA) sibsp values.\n",
    "with_sibsp = titanic[have_sibsp]\n",
    "with_sibsp.head()"
   ]
  },
  {
   "cell_type": "markdown",
   "id": "9a425fc9",
   "metadata": {},
   "source": [
    "Here we have dropped all cases where the `sibsp` value is missing, but you might want to:\n",
    "\n",
    "1. Investigate why the `sibsp` values might be missing, and\n",
    "2. Consider restoring some of the passengers where the value is missing, or\n",
    "   removing more passengers that do not correspond to your questions."
   ]
  },
  {
   "cell_type": "markdown",
   "id": "d0c9f680",
   "metadata": {},
   "source": [
    "You will find more information about the `sibsp` and `parch` variables in the\n",
    "[Vanderbilt site info\n",
    "file](http://biostat.mc.vanderbilt.edu/wiki/pub/Main/DataSets/titanic3info.txt).\n",
    "Quoting from that file:\n",
    "\n",
    "> sibsp           Number of Siblings/Spouses Aboard\n",
    ">\n",
    "> parch           Number of Parents/Children Aboard\n",
    ">\n",
    "> ...\n",
    ">\n",
    "> With respect to the family relation variables (i.e. sibsp and parch) some\n",
    "> relations were ignored.  The following are the definitions used for sibsp and\n",
    "> parch.\n",
    ">\n",
    "> Sibling:  Brother, Sister, Stepbrother, or Stepsister of Passenger Aboard\n",
    ">           Titanic\n",
    ">\n",
    "> Spouse:   Husband or Wife of Passenger Aboard Titanic (Mistresses and\n",
    ">           Fiancées Ignored)\n",
    ">\n",
    "> Parent:   Mother or Father of Passenger Aboard Titanic\n",
    ">\n",
    "> Child:    Son, Daughter, Stepson, or Stepdaughter of Passenger Aboard Titanic\n",
    ">\n",
    "> Other family relatives excluded from this study include cousins,\n",
    "> nephews/nieces, aunts/uncles, and in-laws.  Some children travelled only with\n",
    "> a nanny, therefore parch=0 for them.  As well, some travelled with very close\n",
    "> friends or neighbors in a village, however, the definitions do not support\n",
    "> such relations.\n",
    "\n",
    "Of course, you also have the passengers' names to go on, including the names of\n",
    "the children, and any research you do into the passengers and their families."
   ]
  },
  {
   "cell_type": "markdown",
   "id": "b599188b",
   "metadata": {},
   "source": [
    "Use the variables in the data file, and any other methods you can come up with,\n",
    "to test the following ideas:\n",
    "\n",
    "1. One explanation for passengers being lost or saved was reluctance to leave a\n",
    "   spouse, children or other family behind and\n",
    "2. This goes some way to explaining the relatively low proportion of Third\n",
    "   Class female passengers that were saved.\n",
    "\n",
    "Give your assessment of both of these ideas, along with the analyses that\n",
    "support your conclusions.\n"
   ]
  },
  {
   "cell_type": "markdown",
   "id": "8ec87656",
   "metadata": {},
   "source": [
    "## Marking scheme"
   ]
  },
  {
   "cell_type": "markdown",
   "id": "11656465",
   "metadata": {},
   "source": [
    "* Depth of analysis: 25% of marks.\n",
    "* Analysis appropriate to questions: 25% of marks.\n",
    "* Quality, clarity and organization of analysis code: 25% of marks.\n",
    "* Answers based in analysis: 25% of marks.\n"
   ]
  },
  {
   "cell_type": "markdown",
   "id": "3c130d8e",
   "metadata": {},
   "source": [
    "## Your analysis"
   ]
  },
  {
   "cell_type": "markdown",
   "id": "bde67cde",
   "metadata": {},
   "source": [
    "Fill out the notebook with your analysis and answers from here."
   ]
  }
 ],
 "metadata": {
  "jupytext": {
   "split_at_heading": true,
   "text_representation": {
    "extension": ".Rmd",
    "format_name": "rmarkdown",
    "format_version": "1.1",
    "jupytext_version": "1.2.4"
   }
  },
  "kernelspec": {
   "display_name": "Python 3",
   "language": "python",
   "name": "python3"
  }
 },
 "nbformat": 4,
 "nbformat_minor": 5
}
